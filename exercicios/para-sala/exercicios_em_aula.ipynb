{
  "nbformat": 4,
  "nbformat_minor": 0,
  "metadata": {
    "colab": {
      "provenance": []
    },
    "kernelspec": {
      "name": "python3",
      "display_name": "Python 3"
    },
    "language_info": {
      "name": "python"
    }
  },
  "cells": [
    {
      "cell_type": "markdown",
      "source": [
        "# Medidas Descritivas"
      ],
      "metadata": {
        "id": "-loKMtV4wS0-"
      }
    },
    {
      "cell_type": "markdown",
      "source": [
        "Dado o conjunto de dados [5, 7, 7, 8, 8, 8, 9, 10], calcule as seguintes medidas descritivas: média, mediana, moda e desvio padrão."
      ],
      "metadata": {
        "id": "8IocZ90mRXJT"
      }
    },
    {
      "cell_type": "code",
      "source": [
        "#Média\n",
        "\n",
        "#dados\n",
        "dados = [5, 7, 7, 8, 8, 8, 9, 10]\n",
        "\n",
        "media = sum(dados) / len(dados)\n",
        "print(f\"A média é {media}\")"
      ],
      "metadata": {
        "colab": {
          "base_uri": "https://localhost:8080/"
        },
        "id": "iux36Dj7Q5E6",
        "outputId": "84c6def5-f47b-47a7-d5d2-290792e57271"
      },
      "execution_count": null,
      "outputs": [
        {
          "output_type": "stream",
          "name": "stdout",
          "text": [
            "A média é 7.75\n"
          ]
        }
      ]
    },
    {
      "cell_type": "code",
      "source": [
        "#Mediana\n",
        "\n",
        "#dados\n",
        "dados = [5, 7, 7, 8, 8, 8, 9, 10]\n",
        "\n",
        "# organizar os dados\n",
        "dados_ordenados = sorted(dados)\n",
        "n = len(dados_ordenados)\n",
        "\n",
        "if n % 2 == 1:\n",
        "  mediana = dados_ordenados[n // 2]\n",
        "else:\n",
        "  mediana = (dados_ordenados [n // 2 - 1] + dados_ordenados[n // 2])/2\n",
        "\n",
        "print(f\"O valor da mediana é : {mediana}\")"
      ],
      "metadata": {
        "colab": {
          "base_uri": "https://localhost:8080/"
        },
        "id": "EMGv4DqcTbCX",
        "outputId": "064d05f8-728d-4316-d417-77a47c62242c"
      },
      "execution_count": null,
      "outputs": [
        {
          "output_type": "stream",
          "name": "stdout",
          "text": [
            "O valor da mediana é : 8.0\n"
          ]
        }
      ]
    },
    {
      "cell_type": "code",
      "source": [
        "#Moda\n",
        "\n",
        "#dados\n",
        "dados = [5, 7, 7, 8, 8, 8, 9, 10]\n",
        "\n",
        "frequencia = {}\n",
        "for numero in dados:\n",
        "  if numero in frequencia:\n",
        "    frequencia [numero] += 1\n",
        "  else:\n",
        "    frequencia[numero] = 1\n",
        "print(frequencia)\n",
        "\n",
        "max_frequencia = max(frequencia.values())\n",
        "print(max_frequencia)\n",
        "\n",
        "moda = [key for key, value in frequencia.items() if value == max_frequencia]\n",
        "\n",
        "print(f\"A moda é {moda}\")"
      ],
      "metadata": {
        "colab": {
          "base_uri": "https://localhost:8080/"
        },
        "id": "e7LqDFtiWAyf",
        "outputId": "18e2984c-2c3a-47fc-fa21-3d09cbb63d99"
      },
      "execution_count": null,
      "outputs": [
        {
          "output_type": "stream",
          "name": "stdout",
          "text": [
            "{5: 1, 7: 2, 8: 3, 9: 1, 10: 1}\n",
            "3\n",
            "A moda é [8]\n"
          ]
        }
      ]
    },
    {
      "cell_type": "code",
      "source": [
        "# Desvio Padrão\n",
        "\n",
        "#importar biblioteca math\n",
        "import math\n",
        "\n",
        "#dados\n",
        "dados = [5, 7, 7, 8, 8, 8, 9, 10]\n",
        "\n",
        "# Passo 1: Calcular média\n",
        "soma = sum(dados)\n",
        "quantidade = len(dados)\n",
        "media = soma / quantidade\n",
        "print(media)\n",
        "\n",
        "# Passo 2: Calcular a variância\n",
        "soma_quadrados_dif = sum((x - media)**2 for x in dados)\n",
        "print(soma_quadrados_dif)\n",
        "\n",
        "variancia = soma_quadrados_dif / (quantidade - 1)\n",
        "print(variancia)\n",
        "\n",
        "# Passo 3 : Calcular o desvio padrão\n",
        "desvio_padrao = math.sqrt(variancia)\n",
        "\n",
        "print(f\"Desvio padrão é {desvio_padrao:.2f}\")"
      ],
      "metadata": {
        "colab": {
          "base_uri": "https://localhost:8080/"
        },
        "id": "toBTZzxratHo",
        "outputId": "8177a739-a837-4082-ac9c-3e8ce4a48ccd"
      },
      "execution_count": 25,
      "outputs": [
        {
          "output_type": "stream",
          "name": "stdout",
          "text": [
            "7.75\n",
            "15.5\n",
            "2.2142857142857144\n",
            "Desvio padrão é 1.49\n"
          ]
        }
      ]
    },
    {
      "cell_type": "code",
      "source": [
        "import numpy as np\n",
        "\n",
        "#dados\n",
        "dados = [5, 7, 7, 8, 8, 8, 9, 10]\n",
        "\n",
        "#Número de observações na amostra (N)\n",
        "N = len(dados)\n",
        "\n",
        "# Calculando o desvio padrão amostral\n",
        "desvio_padrao_amostral = np.std(dados, ddof=1)\n",
        "\n",
        "# Exibindo o resultado\n",
        "print(f\"Quantidade de observações (N): {N}\")\n",
        "print(f\"Desvio padrão amostral: {desvio_padrao_amostral}\")"
      ],
      "metadata": {
        "colab": {
          "base_uri": "https://localhost:8080/"
        },
        "id": "wv3-GVYCy3px",
        "outputId": "ff0c6898-9ea9-4412-df7d-2bf200cf06c9"
      },
      "execution_count": 6,
      "outputs": [
        {
          "output_type": "stream",
          "name": "stdout",
          "text": [
            "Quantidade de observações (N): 8\n",
            "Desvio padrão amostral: 1.4880476182856899\n"
          ]
        }
      ]
    },
    {
      "cell_type": "markdown",
      "source": [
        "# Amostra"
      ],
      "metadata": {
        "id": "H3wdiADErCek"
      }
    },
    {
      "cell_type": "code",
      "source": [
        "#importar biblioteca\n",
        "import random\n",
        "\n",
        "# dados\n",
        "populacao = list(range(1, 101)) #numeros de 1 a 100\n",
        "print(populacao)\n",
        "\n",
        "tamanho_amostra = 10\n",
        "print(tamanho_amostra)\n",
        "\n",
        "# Amostra Aleatória simples\n",
        "amostra = random.sample(populacao, tamanho_amostra)\n",
        "print(f\"Amostra Aleatória Simples {amostra}\")"
      ],
      "metadata": {
        "colab": {
          "base_uri": "https://localhost:8080/"
        },
        "id": "76IC6mm_rFOr",
        "outputId": "d015d899-edf2-4f77-be3f-243b07b1873d"
      },
      "execution_count": null,
      "outputs": [
        {
          "output_type": "stream",
          "name": "stdout",
          "text": [
            "[1, 2, 3, 4, 5, 6, 7, 8, 9, 10, 11, 12, 13, 14, 15, 16, 17, 18, 19, 20, 21, 22, 23, 24, 25, 26, 27, 28, 29, 30, 31, 32, 33, 34, 35, 36, 37, 38, 39, 40, 41, 42, 43, 44, 45, 46, 47, 48, 49, 50, 51, 52, 53, 54, 55, 56, 57, 58, 59, 60, 61, 62, 63, 64, 65, 66, 67, 68, 69, 70, 71, 72, 73, 74, 75, 76, 77, 78, 79, 80, 81, 82, 83, 84, 85, 86, 87, 88, 89, 90, 91, 92, 93, 94, 95, 96, 97, 98, 99, 100]\n",
            "10\n",
            "Amostra Aleatória Simples [39, 30, 9, 14, 34, 29, 80, 50, 44, 71]\n"
          ]
        }
      ]
    },
    {
      "cell_type": "code",
      "source": [
        "#Amostragem Estratificada\n",
        "\n",
        "#dados\n",
        "populacao = {\n",
        "    'grupo1': [1,2,3,4,5],\n",
        "    'grupo2': [6,7,8,9,10],\n",
        "    'grupo3': [11,12,13,14,15]\n",
        "}\n",
        "print(populacao)\n",
        "tamanho_amostra_por_grupo = 2\n",
        "\n",
        "# Amostragem Estratificada\n",
        "amostra_est = {grupo: random.sample(membros, tamanho_amostra_por_grupo) for grupo, membros in populacao.items()}\n",
        "print(f\"Amostra Estratificada {amostra_est}\")"
      ],
      "metadata": {
        "colab": {
          "base_uri": "https://localhost:8080/"
        },
        "id": "vYfhx-kfu_oc",
        "outputId": "b41f0cf6-e464-4f2e-95c0-955557bd237d"
      },
      "execution_count": null,
      "outputs": [
        {
          "output_type": "stream",
          "name": "stdout",
          "text": [
            "{'grupo1': [1, 2, 3, 4, 5], 'grupo2': [6, 7, 8, 9, 10], 'grupo3': [11, 12, 13, 14, 15]}\n",
            "Amostra Estratificada {'grupo1': [4, 2], 'grupo2': [7, 6], 'grupo3': [14, 13]}\n"
          ]
        }
      ]
    },
    {
      "cell_type": "code",
      "source": [
        "#Amostragem por Conglomerados\n",
        "\n",
        "#dados\n",
        "populacao = {\n",
        "    'conglomerado1': [1, 2, 3, 4,5],\n",
        "    'conglomerado2': [6,7,8,9,10],\n",
        "    'conglomerado3': [11,12,13,14,15],\n",
        "    'conglomerado4': [16,17,18,19,20]\n",
        "}\n",
        "print(populacao)\n",
        "num_conglomerados_selecionados = 2\n",
        "\n",
        "# Amostra por conglomerados\n",
        "conglomerados = list(populacao.keys())\n",
        "print(conglomerados)\n",
        "\n",
        "conglomerados_selecionados = random.sample(conglomerados, num_conglomerados_selecionados)\n",
        "print(conglomerados_selecionados)\n",
        "\n",
        "amostra = {conglomerado : populacao [conglomerado] for conglomerado in conglomerados_selecionados}\n",
        "print(f\"Amostra por Conglomerados {amostra}\")\n"
      ],
      "metadata": {
        "colab": {
          "base_uri": "https://localhost:8080/"
        },
        "id": "Q_NJf6iCzxnf",
        "outputId": "c8800c4e-0f05-4641-a4a6-5ea7fdee6ce3"
      },
      "execution_count": null,
      "outputs": [
        {
          "output_type": "stream",
          "name": "stdout",
          "text": [
            "{'conglomerado1': [1, 2, 3, 4, 5], 'conglomerado2': [6, 7, 8, 9, 10], 'conglomerado3': [11, 12, 13, 14, 15], 'conglomerado4': [16, 17, 18, 19, 20]}\n",
            "['conglomerado1', 'conglomerado2', 'conglomerado3', 'conglomerado4']\n",
            "['conglomerado2', 'conglomerado1']\n",
            "Amostra por Conglomerados {'conglomerado2': [6, 7, 8, 9, 10], 'conglomerado1': [1, 2, 3, 4, 5]}\n"
          ]
        }
      ]
    },
    {
      "cell_type": "code",
      "source": [
        "#Amostragem Sistemática\n",
        "\n",
        "#dados\n",
        "populacao = list(range(1, 101))\n",
        "print(populacao)\n",
        "intervalo = 10\n",
        "ponto_de_partida = random.randint(0, intervalo - 1)\n",
        "print(ponto_de_partida)\n",
        "\n",
        "# Amostragem sistemática\n",
        "amostra = [populacao[i] for i in range(ponto_de_partida, len(populacao), intervalo)]\n",
        "\n",
        "print(f\"Amostra sistemática {amostra}\")"
      ],
      "metadata": {
        "colab": {
          "base_uri": "https://localhost:8080/"
        },
        "id": "0tyDUXSfPDsc",
        "outputId": "e20982ed-1ce2-4e31-bcf6-3d41cc623214"
      },
      "execution_count": null,
      "outputs": [
        {
          "output_type": "stream",
          "name": "stdout",
          "text": [
            "[1, 2, 3, 4, 5, 6, 7, 8, 9, 10, 11, 12, 13, 14, 15, 16, 17, 18, 19, 20, 21, 22, 23, 24, 25, 26, 27, 28, 29, 30, 31, 32, 33, 34, 35, 36, 37, 38, 39, 40, 41, 42, 43, 44, 45, 46, 47, 48, 49, 50, 51, 52, 53, 54, 55, 56, 57, 58, 59, 60, 61, 62, 63, 64, 65, 66, 67, 68, 69, 70, 71, 72, 73, 74, 75, 76, 77, 78, 79, 80, 81, 82, 83, 84, 85, 86, 87, 88, 89, 90, 91, 92, 93, 94, 95, 96, 97, 98, 99, 100]\n",
            "5\n",
            "Amostra sistemática [6, 16, 26, 36, 46, 56, 66, 76, 86, 96]\n"
          ]
        }
      ]
    },
    {
      "cell_type": "markdown",
      "source": [
        "# Teste de hipóteses"
      ],
      "metadata": {
        "id": "8jPJwAABkhts"
      }
    },
    {
      "cell_type": "code",
      "source": [
        "#instalar\n",
        "!pip install scipy"
      ],
      "metadata": {
        "colab": {
          "base_uri": "https://localhost:8080/"
        },
        "id": "0x_NczWUkkgh",
        "outputId": "bc9d3c34-a91c-44f5-b064-5bd617367ba0"
      },
      "execution_count": null,
      "outputs": [
        {
          "output_type": "stream",
          "name": "stdout",
          "text": [
            "Requirement already satisfied: scipy in /usr/local/lib/python3.10/dist-packages (1.13.1)\n",
            "Requirement already satisfied: numpy<2.3,>=1.22.4 in /usr/local/lib/python3.10/dist-packages (from scipy) (1.26.4)\n"
          ]
        }
      ]
    },
    {
      "cell_type": "code",
      "source": [
        "#Teste t de student\n",
        "\n",
        "#importar\n",
        "from scipy.stats import ttest_1samp\n",
        "\n",
        "#dados\n",
        "dados = [22, 21, 24, 25, 20, 23, 20, 21, 23]\n",
        "\n",
        "#Teste de hipóteses\n",
        "# H0: A média é igual a 20\n",
        "# H1 : A média é diferente de 20\n",
        "\n",
        "t_estatistico, p_valor = ttest_1samp(dados, 20)\n",
        "\n",
        "print(f\"Estatística t é {t_estatistico}\")\n",
        "print(f\"Valor p é {p_valor}\")"
      ],
      "metadata": {
        "colab": {
          "base_uri": "https://localhost:8080/"
        },
        "id": "JWUcRroilAVr",
        "outputId": "4c76b47c-2896-4c03-b9b9-2a3d8a6b8a8e"
      },
      "execution_count": null,
      "outputs": [
        {
          "output_type": "stream",
          "name": "stdout",
          "text": [
            "Estatística t é 3.590662493587658\n",
            "Valor p é 0.007077669355475713\n"
          ]
        }
      ]
    },
    {
      "cell_type": "markdown",
      "source": [
        "# Teste Z"
      ],
      "metadata": {
        "id": "bk3gc01E12XV"
      }
    },
    {
      "cell_type": "code",
      "source": [
        "# instalação da biblioteca\n",
        "!pip install statsmodels"
      ],
      "metadata": {
        "colab": {
          "base_uri": "https://localhost:8080/"
        },
        "id": "fpD1D3b11p_2",
        "outputId": "97118bd6-2522-4ae3-c879-e5028c554f21"
      },
      "execution_count": 7,
      "outputs": [
        {
          "output_type": "stream",
          "name": "stdout",
          "text": [
            "Requirement already satisfied: statsmodels in /usr/local/lib/python3.10/dist-packages (0.14.2)\n",
            "Requirement already satisfied: numpy>=1.22.3 in /usr/local/lib/python3.10/dist-packages (from statsmodels) (1.26.4)\n",
            "Requirement already satisfied: scipy!=1.9.2,>=1.8 in /usr/local/lib/python3.10/dist-packages (from statsmodels) (1.13.1)\n",
            "Requirement already satisfied: pandas!=2.1.0,>=1.4 in /usr/local/lib/python3.10/dist-packages (from statsmodels) (2.1.4)\n",
            "Requirement already satisfied: patsy>=0.5.6 in /usr/local/lib/python3.10/dist-packages (from statsmodels) (0.5.6)\n",
            "Requirement already satisfied: packaging>=21.3 in /usr/local/lib/python3.10/dist-packages (from statsmodels) (24.1)\n",
            "Requirement already satisfied: python-dateutil>=2.8.2 in /usr/local/lib/python3.10/dist-packages (from pandas!=2.1.0,>=1.4->statsmodels) (2.8.2)\n",
            "Requirement already satisfied: pytz>=2020.1 in /usr/local/lib/python3.10/dist-packages (from pandas!=2.1.0,>=1.4->statsmodels) (2024.1)\n",
            "Requirement already satisfied: tzdata>=2022.1 in /usr/local/lib/python3.10/dist-packages (from pandas!=2.1.0,>=1.4->statsmodels) (2024.1)\n",
            "Requirement already satisfied: six in /usr/local/lib/python3.10/dist-packages (from patsy>=0.5.6->statsmodels) (1.16.0)\n"
          ]
        }
      ]
    },
    {
      "cell_type": "code",
      "source": [
        "#importar\n",
        "from statsmodels.stats.proportion import proportions_ztest\n",
        "\n",
        "# dados\n",
        "#tamanho da amostra\n",
        "n = 100\n",
        "# número de sucesso (clientes satisfeitos)\n",
        "x = 85\n",
        "#proporção a ser testada\n",
        "p0 = 0.75\n",
        "\n",
        "# teste de hipóteses\n",
        "# H0: A proporção é igual a p0\n",
        "# H1: A proporção é maior que p0\n",
        "\n",
        "estatistica, p_valor = proportions_ztest(x, n, p0)\n",
        "\n",
        "#print\n",
        "print(f\"Estatística z é {estatistica:.3f}\")\n",
        "print(f\"Valor p é {p_valor:.3f}\")"
      ],
      "metadata": {
        "colab": {
          "base_uri": "https://localhost:8080/"
        },
        "id": "xLdqSiTd2Hol",
        "outputId": "ec9a71c5-fec4-4e11-c042-b59aa03a2546"
      },
      "execution_count": 12,
      "outputs": [
        {
          "output_type": "stream",
          "name": "stdout",
          "text": [
            "Estatística z é 2.801\n",
            "Valor p é 0.005\n"
          ]
        }
      ]
    },
    {
      "cell_type": "markdown",
      "source": [
        "Teste Qui-quadrado"
      ],
      "metadata": {
        "id": "2ezLS1lm8y0A"
      }
    },
    {
      "cell_type": "code",
      "source": [
        "#importar\n",
        "import numpy as np\n",
        "from scipy.stats import chi2_contingency\n",
        "\n",
        "# dados\n",
        "dados = np.array([[154, 30, 20],[74, 35, 25]])\n",
        "\n",
        "# teste de hipotese\n",
        "# H0: Não há relação\n",
        "# H1: Há a relação\n",
        "\n",
        "# Teste\n",
        "estatistica, p_valor, grau_de_liberdade, matriz_frequencia = chi2_contingency(dados)\n",
        "\n",
        "print(f\"A Estatistica é {estatistica}\")\n",
        "print(f\"Valor p é {p_valor:.3f}\")"
      ],
      "metadata": {
        "colab": {
          "base_uri": "https://localhost:8080/"
        },
        "id": "kr3dFztx5L7I",
        "outputId": "17c5ccfa-7701-4b9b-da8d-0b36269a2d90"
      },
      "execution_count": 22,
      "outputs": [
        {
          "output_type": "stream",
          "name": "stdout",
          "text": [
            "A Estatistica é 15.163685357183805\n",
            "Valor p é 0.001\n"
          ]
        }
      ]
    },
    {
      "cell_type": "markdown",
      "source": [
        "# Teste Anova"
      ],
      "metadata": {
        "id": "Nhwuju_rETwz"
      }
    },
    {
      "cell_type": "code",
      "source": [
        "#importar\n",
        "from scipy.stats import f_oneway\n",
        "\n",
        "#Dados\n",
        "grupo1 = [170, 172, 168, 171, 175]\n",
        "grupo2 = [165, 168, 170, 166, 169]\n",
        "grupo3 = [172, 175, 178, 176, 174]\n",
        "\n",
        "#teste hipoteses\n",
        "#H0: A média dos grupos são iguais\n",
        "#H1: Pelo menos uma média de altura é diferente\n",
        "\n",
        "# teste\n",
        "estatistica, p_valor = f_oneway(grupo1, grupo2, grupo3)\n",
        "\n",
        "print(f\"Estatistica é {estatistica:.2f}\")\n",
        "print(f\" o Valor p {p_valor:.3f}\")"
      ],
      "metadata": {
        "colab": {
          "base_uri": "https://localhost:8080/"
        },
        "id": "v2KpzuHHC860",
        "outputId": "cfeeb74a-0077-4a0c-d78b-77d520d2d882"
      },
      "execution_count": 21,
      "outputs": [
        {
          "output_type": "stream",
          "name": "stdout",
          "text": [
            "Estatistica é 12.84\n",
            " o Valor p 0.001\n"
          ]
        }
      ]
    }
  ]
}