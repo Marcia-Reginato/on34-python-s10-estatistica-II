{
 "cells": [
  {
   "cell_type": "markdown",
   "metadata": {},
   "source": [
    "### Exercício 1: \n",
    "Um nutricionista quer testar se a ingestão diária média de calorias de um grupo de 30 pessoas é diferente de 2000 calorias. Os dados das calorias ingeridas são fornecidos abaixo. Realize o teste de hipóteses usando um nível de significância de 0,05.\n",
    "\n",
    "Dados: [1900, 2100, 2050, 1980, 1950, 2100, 2000, 2150, 2200, 1850, 1990, 1950, 2050, 2080, 2100, 1900, 1950, 2050, 2150, 2000, 2200, 1900, 2100, 2000, 2150, 1850, 1990, 1950, 2050, 2080]\n",
    "grupo_pessoas = 30\n",
    "nível_de_significância = 0,05.\n",
    "    "
   ]
  },
  {
   "cell_type": "code",
   "execution_count": 19,
   "metadata": {},
   "outputs": [
    {
     "name": "stdout",
     "output_type": "stream",
     "text": [
      "Estatística t é: 1.44\n",
      "Valor p é: 0.16\n"
     ]
    }
   ],
   "source": [
    "from scipy.stats import ttest_1samp\n",
    "\n",
    "# Dados\n",
    "dados = [1900, 2100, 2050, 1980, 1950, 2100, 2000, 2150, 2200, 1850, \n",
    "         1990, 1950, 2050, 2080, 2100, 1900, 1950, 2050, 2150, 2000, \n",
    "         2200, 1900, 2100, 2000, 2150, 1850, 1990, 1950, 2050, 2080]\n",
    "\n",
    "# Testar se a média dos dados é diferente de 2000\n",
    "calorias = 2000\n",
    "t_estatistico, p_valor = ttest_1samp(dados, calorias)\n",
    "\n",
    "print(f\"Estatística t é: {t_estatistico:.2f}\")\n",
    "print(f\"Valor p é: {p_valor:.2f}\")"
   ]
  },
  {
   "cell_type": "markdown",
   "metadata": {},
   "source": [
    "### Exercício 2:\n",
    "\n",
    "Um pesquisador deseja verificar se há uma diferença significativa entre as notas de alunos de duas turmas diferentes após um novo método de ensino. As notas das duas turmas são:\n",
    "\n",
    "Turma A: [85, 78, 90, 88, 76, 95, 89, 84]\n",
    "Turma B: [82, 75, 85, 80, 79, 88, 83, 77]\n",
    "\n",
    "Realize o teste de hipóteses para comparar as médias das duas turmas usando um nível de significância de 0,05.\n"
   ]
  },
  {
   "cell_type": "code",
   "execution_count": 24,
   "metadata": {},
   "outputs": [
    {
     "name": "stdout",
     "output_type": "stream",
     "text": [
      "Estatística t é: 1.67\n",
      "Valor p é: 0.12\n"
     ]
    }
   ],
   "source": [
    "from scipy.stats import ttest_ind\n",
    "\n",
    "# Dados das turmas\n",
    "turma_a = [85, 78, 90, 88, 76, 95, 89, 84]\n",
    "turma_b = [82, 75, 85, 80, 79, 88, 83, 77]\n",
    "\n",
    "# Realizando o teste t para amostras independentes\n",
    "t_estatistico, p_valor = ttest_ind(turma_a, turma_b)\n",
    "\n",
    "print(f\"Estatística t é: {t_estatistico:.2f}\")\n",
    "print(f\"Valor p é: {p_valor:.2f}\")"
   ]
  },
  {
   "cell_type": "markdown",
   "metadata": {},
   "source": [
    "### Exercício 3:\n",
    "\n",
    "Uma empresa testou a eficácia de um novo software em dois períodos de tempo. Os tempos (em minutos) para concluir uma tarefa antes e depois do uso do software são registrados abaixo. Determine se houve uma melhoria significativa no tempo de conclusão da tarefa.\n",
    "\n",
    "Antes: [30, 28, 35, 33, 40, 29, 32, 36]\n",
    "Depois: [25, 22, 30, 28, 35, 27, 30, 31]\n"
   ]
  },
  {
   "cell_type": "code",
   "execution_count": 26,
   "metadata": {},
   "outputs": [
    {
     "name": "stdout",
     "output_type": "stream",
     "text": [
      "Estatística t é: 2.19\n",
      "Valor p é: 0.05\n"
     ]
    }
   ],
   "source": [
    "from scipy.stats import ttest_ind\n",
    "\n",
    "#dados:\n",
    "antes = [30, 28, 35, 33, 40, 29, 32, 36]\n",
    "depois = [25, 22, 30, 28, 35, 27, 30, 31]\n",
    "\n",
    "t_estatistico, p_valor = ttest_ind(antes, depois)\n",
    "\n",
    "print(f\"Estatística t é: {t_estatistico:.2f}\")\n",
    "print(f\"Valor p é: {p_valor:.2f}\")"
   ]
  },
  {
   "cell_type": "markdown",
   "metadata": {},
   "source": [
    "\n",
    "### Exercício 4:\n",
    "\n",
    "Uma pesquisa foi realizada para verificar a preferência de 100 pessoas por dois tipos de bebidas, A e B, em duas cidades diferentes, X e Y. A tabela de contingência a seguir mostra os resultados:\n",
    "\n",
    "          Cidade X Cidade Y\n",
    "Bebida A\t30\t      40\n",
    "Bebida B\t20\t      10\n",
    "\n",
    "Verifique se há uma relação significativa entre a cidade e a preferência pela bebida.\n"
   ]
  },
  {
   "cell_type": "code",
   "execution_count": 27,
   "metadata": {},
   "outputs": [
    {
     "name": "stdout",
     "output_type": "stream",
     "text": [
      "Estatística é: 3.86\n",
      "Valor p é: 0.05\n"
     ]
    }
   ],
   "source": [
    "import numpy as np\n",
    "from scipy.stats import chi2_contingency\n",
    "\n",
    "# Dados da tabela de contingência\n",
    "dados = np.array([[30, 40], [20, 10]])\n",
    "\n",
    "# Realiza o teste qui-quadrado de independência\n",
    "estatistica, p_valor, grau_de_liberdade, matriz_frequencia = chi2_contingency(dados)\n",
    "\n",
    "print(f\"Estatística é: {estatistica:.2f}\")\n",
    "print(f\"Valor p é: {p_valor:.2f}\")"
   ]
  },
  {
   "cell_type": "markdown",
   "metadata": {},
   "source": [
    "### Exercício 5:\n",
    "\n",
    "Um pesquisador deseja testar se três diferentes tipos de fertilizantes têm um efeito significativo no crescimento de plantas. Os crescimentos das plantas (em cm) para cada fertilizante são dados abaixo:\n",
    "\n",
    "Fertilizante A: [20, 22, 19, 21, 20]\n",
    "Fertilizante B: [18, 20, 17, 19, 18]\n",
    "Fertilizante C: [25, 27, 26, 28, 26]\n",
    "Realize uma ANOVA de uma via para verificar se há uma diferença significativa entre os grupos."
   ]
  },
  {
   "cell_type": "code",
   "execution_count": 30,
   "metadata": {},
   "outputs": [
    {
     "name": "stdout",
     "output_type": "stream",
     "text": [
      "Estatística F: 66.67\n",
      "Valor p: 0.000\n"
     ]
    }
   ],
   "source": [
    "from scipy.stats import f_oneway\n",
    "\n",
    "# Dados\n",
    "fertilizante_a = [20, 22, 19, 21, 20]\n",
    "fertilizante_b = [18, 20, 17, 19, 18]\n",
    "fertilizante_c = [25, 27, 26, 28, 26]\n",
    "\n",
    "# Realizando a ANOVA\n",
    "estatistica, p_valor = f_oneway(fertilizante_a, fertilizante_b, fertilizante_c)\n",
    "\n",
    "print(f\"Estatística F: {estatistica:.2f}\")\n",
    "print(f\"Valor p: {p_valor:.3f}\")"
   ]
  }
 ],
 "metadata": {
  "kernelspec": {
   "display_name": "Python 3",
   "language": "python",
   "name": "python3"
  },
  "language_info": {
   "codemirror_mode": {
    "name": "ipython",
    "version": 3
   },
   "file_extension": ".py",
   "mimetype": "text/x-python",
   "name": "python",
   "nbconvert_exporter": "python",
   "pygments_lexer": "ipython3",
   "version": "3.12.3"
  }
 },
 "nbformat": 4,
 "nbformat_minor": 2
}
